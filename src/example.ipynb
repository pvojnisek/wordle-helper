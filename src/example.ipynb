{
 "cells": [
  {
   "cell_type": "code",
   "execution_count": 9,
   "metadata": {},
   "outputs": [],
   "source": [
    "import wordle_helper as whm\n",
    "wh = whm.WordleHelper()"
   ]
  },
  {
   "cell_type": "code",
   "execution_count": 17,
   "metadata": {},
   "outputs": [
    {
     "data": {
      "text/plain": [
       "''"
      ]
     },
     "execution_count": 17,
     "metadata": {},
     "output_type": "execute_result"
    }
   ],
   "source": [
    "s = 'x' * 0\n",
    "s"
   ]
  },
  {
   "cell_type": "code",
   "execution_count": 10,
   "metadata": {},
   "outputs": [
    {
     "data": {
      "text/plain": [
       "array(['birch', 'birds', 'birks', 'birls', 'biron', 'birth', 'bohor',\n",
       "       'borgh', 'boric', 'borid', 'boris', 'boron', 'borts', 'bortz',\n",
       "       'brick', 'brigs', 'brill', 'brims', 'bring', 'brink', 'brins',\n",
       "       'brios', 'brisk', 'briss', 'brist', 'brith', 'brits', 'britt',\n",
       "       'brizz', 'broch', 'brock', 'brogh', 'broid', 'broil', 'broll',\n",
       "       'bromo', 'bronc', 'bronk', 'bronx', 'brood', 'brook', 'brool',\n",
       "       'broom', 'broon', 'broos', 'broth', 'brott', 'brubu', 'brugh',\n",
       "       'bruin', 'bruit', 'brujo', 'bruno', 'brunt', 'brush', 'brusk',\n",
       "       'bruzz', 'burbs', 'burds', 'burgh', 'burgs', 'burin', 'burls',\n",
       "       'burns', 'burnt', 'buroo', 'burps', 'burst', 'burut', 'chlor',\n",
       "       'choir', 'chris', 'chron', 'circs', 'clour', 'color', 'comdr',\n",
       "       'confr', 'conor', 'contr', 'cords', 'corgi', 'corin', 'corks',\n",
       "       'corms', 'corno', 'corns', 'cornu', 'corol', 'corpl', 'corpn',\n",
       "       'corps', 'corso', 'corvo', 'cribo', 'cribs', 'crick', 'crimp',\n",
       "       'crink', 'crips', 'crisp', 'criss', 'crith', 'croci', 'crock',\n",
       "       'croft', 'crois', 'cronk', 'crood', 'crook', 'crool', 'croon',\n",
       "       'crops', 'cross', 'crost', 'croup', 'crout', 'cruck', 'cruds',\n",
       "       'crull', 'crumb', 'crump', 'crunk', 'crunt', 'cruor', 'crush',\n",
       "       'crust', 'cruth', 'curbs', 'curch', 'curds', 'curfs', 'curin',\n",
       "       'curio', 'curls', 'curns', 'curst', 'dhikr', 'digor', 'dirks',\n",
       "       'dirls', 'dirts', 'distr', 'dolor', 'donor', 'doric', 'doris',\n",
       "       'dorms', 'dorps', 'dorsi', 'dorts', 'dribs', 'drift', 'drill',\n",
       "       'drink', 'drinn', 'drips', 'dript', 'drisk', 'drogh', 'droil',\n",
       "       'droit', 'droll', 'droob', 'drool', 'droop', 'drops', 'dropt',\n",
       "       'dross', 'droud', 'drouk', 'drubs', 'drugs', 'druid', 'drums',\n",
       "       'drung', 'drunk', 'drunt', 'durio', 'durns', 'duroc', 'duros',\n",
       "       'durst', 'durum', 'durzi', 'fgrid', 'firms', 'firns', 'first',\n",
       "       'firth', 'floor', 'flour', 'fluor', 'forbs', 'fordo', 'fords',\n",
       "       'forgo', 'forks', 'forms', 'forst', 'forth', 'forts', 'forum',\n",
       "       'frigs', 'frill', 'frisk', 'friss', 'frist', 'frith', 'frits',\n",
       "       'fritt', 'fritz', 'frizz', 'frock', 'frogs', 'frond', 'frons',\n",
       "       'front', 'froom', 'frosh', 'frosk', 'frost', 'froth', 'frugs',\n",
       "       'fruit', 'frump', 'frush', 'frust', 'furil', 'furls', 'furor',\n",
       "       'furud', 'ghbor', 'girds', 'girls', 'girns', 'giron', 'giros',\n",
       "       'girsh', 'girth', 'girts', 'goric', 'gorki', 'gorst', 'grids',\n",
       "       'griff', 'grift', 'grigs', 'grill', 'grimm', 'grimp', 'grind',\n",
       "       'grins', 'grint', 'griot', 'griph', 'grips', 'gript', 'grist',\n",
       "       'grith', 'grits', 'groff', 'grogs', 'groin', 'grond', 'gront',\n",
       "       'groof', 'groom', 'groop', 'groot', 'gross', 'grosz', 'grots',\n",
       "       'grouf', 'group', 'grout', 'grubs', 'gruff', 'gruft', 'gruis',\n",
       "       'grump', 'grunt', 'grush', 'gruss', 'guric', 'gursh', 'gurts',\n",
       "       'gurus', 'hirst', 'honor', 'horim', 'horns', 'horol', 'horst',\n",
       "       'humor', 'hurds', 'hurls', 'huron', 'hurst', 'hurts', 'ichor',\n",
       "       'ifrit', 'incor', 'incur', 'inrol', 'inrub', 'inrun', 'instr',\n",
       "       'iortn', 'irbis', 'irgun', 'irido', 'iring', 'irish', 'iroko',\n",
       "       'irons', 'irous', 'irvin', 'jorum', 'juris', 'juror', 'kirks',\n",
       "       'kirns', 'korin', 'korun', 'krill', 'kriss', 'krivu', 'kroon',\n",
       "       'krubi', 'kurku', 'kurmi', 'kurus', 'lirot', 'livor', 'lodur',\n",
       "       'lords', 'loric', 'loris', 'loros', 'lorum', 'lotor', 'lurch',\n",
       "       'lurid', 'lurks', 'mikir', 'milor', 'mimir', 'minor', 'mirid',\n",
       "       'mirks', 'mirth', 'mirvs', 'mohur', 'mordu', 'mordv', 'moric',\n",
       "       'morin', 'mormo', 'morns', 'moroc', 'moron', 'moror', 'morph',\n",
       "       'morth', 'morts', 'morus', 'mosur', 'motor', 'mucor', 'mudir',\n",
       "       'murid', 'murks', 'murmi', 'murph', 'murut', 'nidor', 'niris',\n",
       "       'nirls', 'noric', 'norit', 'norms', 'norsk', 'north', 'nurls',\n",
       "       'occur', 'odour', 'okrug', 'ophir', 'orbic', 'orbit', 'orcin',\n",
       "       'ordos', 'orgic', 'oribi', 'orion', 'orlon', 'orlop', 'orlos',\n",
       "       'ornis', 'oromo', 'orpin', 'orpit', 'orris', 'orson', 'ortho',\n",
       "       'ortol', 'piotr', 'pirns', 'pirog', 'pirol', 'pirot', 'porch',\n",
       "       'porgo', 'porks', 'porno', 'porns', 'poros', 'porto', 'ports',\n",
       "       'porus', 'prich', 'prick', 'prigs', 'prill', 'primi', 'primo',\n",
       "       'primp', 'prims', 'prink', 'print', 'prion', 'prior', 'prism',\n",
       "       'priss', 'prius', 'prodd', 'prods', 'profs', 'progs', 'promo',\n",
       "       'proms', 'prong', 'proof', 'propr', 'props', 'proso', 'pross',\n",
       "       'prost', 'proto', 'proud', 'prunt', 'purim', 'purin', 'puris',\n",
       "       'purls', 'qursh', 'qurti', 'rhino', 'rhomb', 'rhumb', 'richt',\n",
       "       'ricin', 'ricks', 'riffi', 'riffs', 'rifts', 'right', 'rigid',\n",
       "       'rigol', 'rigor', 'rills', 'rimpi', 'rinch', 'rinds', 'rings',\n",
       "       'rinks', 'riots', 'ripup', 'rishi', 'risks', 'risqu', 'risus',\n",
       "       'ritsu', 'ritus', 'robin', 'robot', 'robur', 'rocks', 'rohob',\n",
       "       'rohun', 'roils', 'roist', 'rollo', 'rolls', 'romic', 'romps',\n",
       "       'rompu', 'ronco', 'rondo', 'ronin', 'ronni', 'roods', 'roofs',\n",
       "       'rooks', 'rooms', 'roost', 'rooti', 'roots', 'roric', 'rorid',\n",
       "       'roshi', 'rosin', 'rotch', 'rotls', 'rotor', 'rotos', 'rough',\n",
       "       'round', 'roups', 'roust', 'routh', 'routs', 'rozum', 'rubin',\n",
       "       'rubor', 'rubus', 'rucks', 'rudds', 'ruffs', 'rufus', 'ruing',\n",
       "       'ruins', 'rumbo', 'rumor', 'rumps', 'runch', 'rundi', 'rungs',\n",
       "       'runic', 'runts', 'rusin', 'rusks', 'rusot', 'rusts', 'rutch',\n",
       "       'ruths', 'rutic', 'rutin', 'ruvid', 'scour', 'scrim', 'scrin',\n",
       "       'scrip', 'scrit', 'scrob', 'scrod', 'scrog', 'scroo', 'scrub',\n",
       "       'scruf', 'scrum', 'shoor', 'shrip', 'shris', 'shrog', 'shrub',\n",
       "       'shrug', 'sirih', 'siris', 'sirki', 'siroc', 'sirop', 'siros',\n",
       "       'sirup', 'slour', 'smrgs', 'sopor', 'sorbs', 'sordo', 'sords',\n",
       "       'sorgo', 'sorns', 'sorts', 'sorus', 'spoor', 'sprig', 'sprit',\n",
       "       'sprod', 'sprot', 'sprug', 'sruti', 'sstor', 'stour', 'strid',\n",
       "       'strig', 'strip', 'strit', 'strix', 'strom', 'strop', 'strub',\n",
       "       'strum', 'strut', 'struv', 'sudor', 'supvr', 'surds', 'surfs',\n",
       "       'sutor', 'thrip', 'throb', 'throu', 'thrum', 'thruv', 'thulr',\n",
       "       'tikor', 'tikur', 'timor', 'tirls', 'tiros', 'torch', 'torcs',\n",
       "       'toric', 'torii', 'toros', 'torsi', 'torsk', 'torso', 'torts',\n",
       "       'torus', 'trick', 'trigo', 'trigs', 'trill', 'trims', 'trink',\n",
       "       'triol', 'trior', 'trios', 'tripl', 'trips', 'tript', 'trist',\n",
       "       'troch', 'trock', 'troco', 'troft', 'trogs', 'troic', 'trois',\n",
       "       'troll', 'tromp', 'tronc', 'tronk', 'troop', 'troot', 'trooz',\n",
       "       'troth', 'trots', 'trout', 'trouv', 'trubu', 'truck', 'truff',\n",
       "       'trull', 'trump', 'trunk', 'trush', 'truss', 'trust', 'truth',\n",
       "       'tudor', 'tumor', 'turbo', 'turco', 'turds', 'turfs', 'turio',\n",
       "       'turki', 'turks', 'turns', 'turps', 'turus', 'tutor', 'ugric',\n",
       "       'uigur', 'unfur', 'unrid', 'unrig', 'unrip', 'unrun', 'uprid',\n",
       "       'uprip', 'uprun', 'urbic', 'ursid', 'urson', 'ursuk', 'ursus',\n",
       "       'urubu', 'urucu', 'urutu', 'utrum', 'uvrou', 'vigor', 'virgo',\n",
       "       'virid', 'virls', 'viron', 'virtu', 'virus', 'visor', 'vizir',\n",
       "       'vizor', 'vroom', 'zokor', 'zoril', 'zoris'], dtype='<U32')"
      ]
     },
     "execution_count": 10,
     "metadata": {},
     "output_type": "execute_result"
    }
   ],
   "source": [
    "wh.filter_not_contains('weay', inplace=True)\n",
    "wh.filter_contains('r', inplace=True)\n",
    "wh.filter_regexp('...[^r].', inplace=True)\n"
   ]
  },
  {
   "cell_type": "code",
   "execution_count": 3,
   "metadata": {},
   "outputs": [
    {
     "data": {
      "text/plain": [
       "array(['crimp', 'crips', 'crisp', 'criss', 'crith'], dtype='<U32')"
      ]
     },
     "execution_count": 3,
     "metadata": {},
     "output_type": "execute_result"
    }
   ],
   "source": [
    "wh.filter_not_contains('bk', inplace=True)\n",
    "wh.filter_regexp('.ri..', inplace=True)\n",
    "wh.filter_contains('c', inplace=True)\n",
    "wh.filter_regexp('...[^c].', inplace=True)"
   ]
  },
  {
   "cell_type": "code",
   "execution_count": 24,
   "metadata": {},
   "outputs": [
    {
     "data": {
      "text/plain": [
       "array(['crimp', 'prill', 'primi', 'primo', 'primp', 'prior'], dtype='<U32')"
      ]
     },
     "execution_count": 24,
     "metadata": {},
     "output_type": "execute_result"
    }
   ],
   "source": [
    "wh.filter_not_contains('fts', inplace=True)\n",
    "wh.filter_not_contains('gnd', inplace=True)"
   ]
  },
  {
   "cell_type": "code",
   "execution_count": 14,
   "metadata": {},
   "outputs": [
    {
     "data": {
      "text/plain": [
       "'group'"
      ]
     },
     "execution_count": 14,
     "metadata": {},
     "output_type": "execute_result"
    }
   ],
   "source": [
    "import numpy as np\n",
    "\n",
    "np.random.choice(wh.get_words())"
   ]
  }
 ],
 "metadata": {
  "interpreter": {
   "hash": "949777d72b0d2535278d3dc13498b2535136f6dfe0678499012e853ee9abcab1"
  },
  "kernelspec": {
   "display_name": "Python 3.10.0 64-bit",
   "language": "python",
   "name": "python3"
  },
  "language_info": {
   "codemirror_mode": {
    "name": "ipython",
    "version": 3
   },
   "file_extension": ".py",
   "mimetype": "text/x-python",
   "name": "python",
   "nbconvert_exporter": "python",
   "pygments_lexer": "ipython3",
   "version": "3.10.0"
  },
  "orig_nbformat": 4
 },
 "nbformat": 4,
 "nbformat_minor": 2
}
